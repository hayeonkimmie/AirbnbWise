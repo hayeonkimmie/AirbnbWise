{
 "cells": [
  {
   "cell_type": "markdown",
   "metadata": {},
   "source": [
    "## <p style=\"font-family:JetBrains Mono; font-weight:normal; letter-spacing:2px; color:#4E4FEB; font-size:140%; text-align:left;padding: 0px; border-bottom: 3px solid #4E4FEB\">Libraries</p>"
   ]
  },
  {
   "cell_type": "code",
   "execution_count": 37,
   "metadata": {},
   "outputs": [],
   "source": [
    "import warnings\n",
    "warnings.filterwarnings(\"ignore\")\n",
    "\n",
    "from selenium import webdriver\n",
    "import chromedriver_autoinstaller\n",
    "from selenium.webdriver.common.by import By\n",
    "from selenium.webdriver.support.ui import WebDriverWait\n",
    "from selenium.webdriver.support import expected_conditions as EC\n",
    "from selenium.webdriver.common.keys import Keys\n",
    "from selenium.webdriver import ActionChains\n",
    "\n",
    "from bs4 import BeautifulSoup\n",
    "from urllib.request import Request, urlopen\n",
    "import json\n",
    "from tqdm import tqdm, tqdm_notebook\n",
    "import time\n",
    "\n",
    "import pandas as pd\n",
    "import numpy as np\n",
    "\n",
    "import matplotlib.pyplot as plt\n",
    "import seaborn as sns\n",
    "from tqdm.auto import tqdm\n",
    "from pandas.io.formats.style import Styler\n",
    "\n",
    "pd.options.display.max_columns = 999\n",
    "pd.options.display.max_colwidth = 999\n",
    "\n",
    "tqdm.pandas()\n",
    "\n",
    "rc = {\n",
    "    \"axes.facecolor\": \"#F8F8F8\", \n",
    "    \"figure.facecolor\": \"#F8F8F8\", \n",
    "    \"axes.edgecolor\": \"#000000\",  \n",
    "    \"grid.color\": \"#EBEBE7\" + \"30\",\n",
    "    \"font.family\": \"serif\",\n",
    "    \"axes.labelcolor\": \"#000000\",\n",
    "    \"xtick.color\": \"#000000\", \n",
    "    \"ytick.color\": \"#000000\",\n",
    "    \"grid.alpha\": 0.4 \n",
    "}\n",
    "\n",
    "sns.set(rc=rc) \n",
    "palette = ['#ff7f50', '#ffd700', '#ffdab9', '#9fe2bf',\n",
    "           '#d2b48c', '#008080', '#98ff98', '#000080']\n",
    "\n",
    "\n",
    "from colorama import Style, Fore \n",
    "blk = Style.BRIGHT + Fore.BLACK\n",
    "gld = Style.BRIGHT + Fore.YELLOW\n",
    "grn = Style.BRIGHT + Fore.GREEN\n",
    "red = Style.BRIGHT + Fore.RED\n",
    "blu = Style.BRIGHT + Fore.BLUE\n",
    "res = Style.RESET_ALL\n",
    "\n",
    "import json"
   ]
  },
  {
   "cell_type": "code",
   "execution_count": 38,
   "metadata": {},
   "outputs": [],
   "source": [
    "def magnify(is_test : bool = False): \n",
    "    base_color = '#b57edc'\n",
    "    if is_test:\n",
    "        highlight_target_row = []\n",
    "    else:\n",
    "        highlight_target_row = dict(selector = 'tr:last-child',\n",
    "                            props = [('background-color', f'{base_color}' + '20')]) \n",
    "    \n",
    "    return [dict(selector=\"th\", \n",
    "                props=[(\"font-size\", \"11pt\"),\n",
    "                    ('background-color', f'{base_color}'),\n",
    "                    ('color', 'white'),\n",
    "                    ('font-weight', 'bold'),\n",
    "                    ('border-bottom', '0.1px solid white'), \n",
    "                    ('border-left', '0.1px solid white'), \n",
    "                    ('text-align', 'right')]),\n",
    "        \n",
    "            dict(selector='th.blank.level0', \n",
    "                props=[('font-weight', 'bold'),\n",
    "                        ('border-left', '1.7px solid white'),\n",
    "                        ('background-color', 'white')]),\n",
    "\n",
    "            dict(selector=\"td\", \n",
    "                    props=[('padding', \"0.5em 1em\"), \n",
    "                        ('text-align', 'right')]),\n",
    "\n",
    "            dict(selector=\"th:hover\",\n",
    "                    props=[(\"font-size\", \"14pt\")]),\n",
    "\n",
    "            dict(selector=\"tr:hover td:hover\",\n",
    "                    props=[('max-width', '250px'),\n",
    "                        ('font-size', '14pt'),\n",
    "                        ('color', f'{base_color}'),\n",
    "                        ('font-weight', 'bold'),\n",
    "                        ('background-color', 'white'),\n",
    "                        ('border', f'1px dashed {base_color}')]),\n",
    "            \n",
    "            dict(selector=\"caption\", \n",
    "                props=[(('caption-side', 'bottom'))])] + highlight_target_row\n",
    "\n",
    "def stylize_simple(df: pd.DataFrame, caption: str) -> Styler:\n",
    "    \"\"\"\n",
    "        Args:\n",
    "            df: any dataframe (train/test/origin)\n",
    "\n",
    "        Returns:\n",
    "            s: the dataframe wrapped into Styler.\n",
    "    \"\"\"\n",
    "    s = df\n",
    "    s = s.style.set_table_styles(magnify(True)).set_caption(f\"{caption}\")\n",
    "    return s"
   ]
  },
  {
   "cell_type": "markdown",
   "metadata": {},
   "source": [
    "## <p style=\"font-family:JetBrains Mono; font-weight:normal; letter-spacing:2px; color:#4E4FEB; font-size:140%; text-align:left;padding: 0px; border-bottom: 3px solid #4E4FEB\">Intro</p>"
   ]
  },
  {
   "cell_type": "markdown",
   "metadata": {},
   "source": [
    "Collecting Tokyo Real Estate Case Data\n",
    "\n",
    " <a href = 'http://www.oshimaland.co.jp'> 오시마랜드(Oshimaland)</a>\n",
    ">This website showcases buildings with unfortunate past incidents such as suicide cases, corpse disposal incidents, and murder cases.\n"
   ]
  },
  {
   "cell_type": "markdown",
   "metadata": {},
   "source": [
    "## <p style=\"font-family:JetBrains Mono; font-weight:normal; letter-spacing:2px; color:#4E4FEB; font-size:140%; text-align:left;padding: 0px; border-bottom: 3px solid #4E4FEB\">Data Crawling</p>"
   ]
  },
  {
   "cell_type": "code",
   "execution_count": 39,
   "metadata": {},
   "outputs": [],
   "source": [
    "chrome_path = chromedriver_autoinstaller.install()\n",
    "driver = webdriver.Chrome(chrome_path)\n",
    "url = 'https://www.oshimaland.co.jp/'\n",
    "driver.get(url)\n",
    "driver.implicitly_wait(10)"
   ]
  },
  {
   "cell_type": "code",
   "execution_count": 40,
   "metadata": {},
   "outputs": [
    {
     "data": {
      "text/html": [
       "<style type=\"text/css\">\n",
       "#T_29c36 th {\n",
       "  font-size: 11pt;\n",
       "  background-color: #b57edc;\n",
       "  color: white;\n",
       "  font-weight: bold;\n",
       "  border-bottom: 0.1px solid white;\n",
       "  border-left: 0.1px solid white;\n",
       "  text-align: right;\n",
       "}\n",
       "#T_29c36 th.blank.level0 {\n",
       "  font-weight: bold;\n",
       "  border-left: 1.7px solid white;\n",
       "  background-color: white;\n",
       "}\n",
       "#T_29c36 td {\n",
       "  padding: 0.5em 1em;\n",
       "  text-align: right;\n",
       "}\n",
       "#T_29c36 th:hover {\n",
       "  font-size: 14pt;\n",
       "}\n",
       "#T_29c36 tr:hover td:hover {\n",
       "  max-width: 250px;\n",
       "  font-size: 14pt;\n",
       "  color: #b57edc;\n",
       "  font-weight: bold;\n",
       "  background-color: white;\n",
       "  border: 1px dashed #b57edc;\n",
       "}\n",
       "#T_29c36 caption {\n",
       "  caption-side: bottom;\n",
       "}\n",
       "</style>\n",
       "<table id=\"T_29c36\">\n",
       "  <caption>main_district</caption>\n",
       "  <thead>\n",
       "    <tr>\n",
       "      <th class=\"blank level0\" >&nbsp;</th>\n",
       "      <th id=\"T_29c36_level0_col0\" class=\"col_heading level0 col0\" >neighbourhood_cleansed</th>\n",
       "      <th id=\"T_29c36_level0_col1\" class=\"col_heading level0 col1\" >count</th>\n",
       "    </tr>\n",
       "  </thead>\n",
       "  <tbody>\n",
       "    <tr>\n",
       "      <th id=\"T_29c36_level0_row0\" class=\"row_heading level0 row0\" >0</th>\n",
       "      <td id=\"T_29c36_row0_col0\" class=\"data row0 col0\" >Shinjuku Ku</td>\n",
       "      <td id=\"T_29c36_row0_col1\" class=\"data row0 col1\" >2278</td>\n",
       "    </tr>\n",
       "    <tr>\n",
       "      <th id=\"T_29c36_level0_row1\" class=\"row_heading level0 row1\" >1</th>\n",
       "      <td id=\"T_29c36_row1_col0\" class=\"data row1 col0\" >Taito Ku</td>\n",
       "      <td id=\"T_29c36_row1_col1\" class=\"data row1 col1\" >1597</td>\n",
       "    </tr>\n",
       "    <tr>\n",
       "      <th id=\"T_29c36_level0_row2\" class=\"row_heading level0 row2\" >2</th>\n",
       "      <td id=\"T_29c36_row2_col0\" class=\"data row2 col0\" >Sumida Ku</td>\n",
       "      <td id=\"T_29c36_row2_col1\" class=\"data row2 col1\" >1290</td>\n",
       "    </tr>\n",
       "    <tr>\n",
       "      <th id=\"T_29c36_level0_row3\" class=\"row_heading level0 row3\" >3</th>\n",
       "      <td id=\"T_29c36_row3_col0\" class=\"data row3 col0\" >Toshima Ku</td>\n",
       "      <td id=\"T_29c36_row3_col1\" class=\"data row3 col1\" >1002</td>\n",
       "    </tr>\n",
       "  </tbody>\n",
       "</table>\n"
      ],
      "text/plain": [
       "<pandas.io.formats.style.Styler at 0x7fb201735370>"
      ]
     },
     "metadata": {},
     "output_type": "display_data"
    }
   ],
   "source": [
    "main_district = pd.read_csv('/Users/genie/PycharmProjects/PROJECT/AirbnbWise/Oshimaland_data/jieun/main_district_df2.csv')\n",
    "display(stylize_simple(main_district.head(4), 'main_district'))"
   ]
  },
  {
   "cell_type": "code",
   "execution_count": 41,
   "metadata": {},
   "outputs": [
    {
     "name": "stdout",
     "output_type": "stream",
     "text": [
      "['Shinjuku Ku', 'Taito Ku', 'Sumida Ku', 'Toshima Ku', 'Shibuya Ku', 'Minato Ku', 'Setagaya Ku', 'Ota Ku', 'Nakano Ku', 'Chuo Ku', 'Kita Ku', 'Katsushika Ku', 'Suginami Ku', 'Koto Ku', 'Edogawa Ku', 'Bunkyo Ku', 'Arakawa Ku', 'Itabashi Ku', 'Shinagawa Ku', 'Chiyoda Ku', 'Adachi Ku', 'Meguro Ku', 'Nerima Ku', 'Fuchu Shi', 'Hachioji Shi', 'Hino Shi', 'Kokubunji Shi', 'Machida Shi', 'Ome Shi', 'Chofu Shi', 'Musashino Shi', 'Akiruno Shi', 'Mitaka Shi', 'Koganei Shi', 'Higashimurayama Shi', 'Tama Shi', 'Kunitachi Shi', 'Komae Shi', 'Nishitokyo Shi', 'Tachikawa Shi', 'Kodaira Shi', 'Hamura Shi', 'Musashimurayama Shi', 'Okutama Machi', 'Akishima Shi', 'Fussa Shi']\n"
     ]
    }
   ],
   "source": [
    "regionList = list(main_district['neighbourhood_cleansed'])\n",
    "print(regionList)"
   ]
  },
  {
   "cell_type": "code",
   "execution_count": 42,
   "metadata": {},
   "outputs": [
    {
     "data": {
      "text/plain": [
       "{'key': '3q5znamu',\n",
       " 'lat': 35.693886004366256,\n",
       " 'lng': 139.70346762941995,\n",
       " 'info': '飛び降り自殺',\n",
       " 'ad': '東京都新宿区歌舞伎町一丁目4',\n",
       " 'dt': '令和2年7月10日',\n",
       " 'cr': '令和4年3月7日',\n",
       " 'images': [],\n",
       " 'links': []}"
      ]
     },
     "execution_count": 42,
     "metadata": {},
     "output_type": "execute_result"
    }
   ],
   "source": [
    "json_url = 'https://www.oshimaland.co.jp/d/3q5znamu.json'\n",
    "url = Request(json_url, headers={\"User-Agent\": \"Mozilla/5.0\"})\n",
    "code = urlopen(url)\n",
    "soup = BeautifulSoup(code, 'html.parser')\n",
    "json_data = json.loads(soup.text)\n",
    "json_data"
   ]
  },
  {
   "cell_type": "code",
   "execution_count": 43,
   "metadata": {},
   "outputs": [
    {
     "ename": "SyntaxError",
     "evalue": "invalid syntax (2694355521.py, line 4)",
     "output_type": "error",
     "traceback": [
      "\u001b[0;36m  Cell \u001b[0;32mIn[43], line 4\u001b[0;36m\u001b[0m\n\u001b[0;31m    投稿年月日 令和4年3月7日\u001b[0m\n\u001b[0m          ^\u001b[0m\n\u001b[0;31mSyntaxError\u001b[0m\u001b[0;31m:\u001b[0m invalid syntax\n"
     ]
    }
   ],
   "source": [
    "令和2年7月10日\n",
    "東京都新宿区歌舞伎町一丁目4\n",
    "飛び降り自殺\n",
    "投稿年月日 令和4年3月7日"
   ]
  }
 ],
 "metadata": {
  "kernelspec": {
   "display_name": "genie",
   "language": "python",
   "name": "python3"
  },
  "language_info": {
   "codemirror_mode": {
    "name": "ipython",
    "version": 3
   },
   "file_extension": ".py",
   "mimetype": "text/x-python",
   "name": "python",
   "nbconvert_exporter": "python",
   "pygments_lexer": "ipython3",
   "version": "3.8.16"
  },
  "orig_nbformat": 4
 },
 "nbformat": 4,
 "nbformat_minor": 2
}
