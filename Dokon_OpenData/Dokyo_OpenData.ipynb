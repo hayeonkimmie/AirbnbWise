{
 "cells": [
  {
   "cell_type": "code",
   "execution_count": 1,
   "metadata": {},
   "outputs": [],
   "source": [
    "import time\n",
    "import warnings\n",
    "warnings.filterwarnings(\"ignore\")\n",
    "from bs4 import BeautifulSoup\n",
    "import urllib.request as req\n",
    "import requests\n",
    "from tqdm import tqdm, tqdm_notebook\n",
    "import pandas as pd\n",
    "import numpy as np\n",
    "import urllib.parse as par"
   ]
  },
  {
   "cell_type": "code",
   "execution_count": 2,
   "metadata": {},
   "outputs": [],
   "source": [
    "\n",
    "#TODO : 도쿄 치안 데이터 : 치안 관련 키워드로 일본 도쿄 공공 데이터 수집\n",
    "#* 치안, 범죄, 경찰, 범죄 예방, CCTV, 범죄자, 안전, 교통 안전, 경비원, 범죄 통계\n",
    "#* 비슷한 키워드로 중복 데이터 다운 가능성으로 중복 데이터 제거\n",
    "searchKeywordList = ['治安','犯罪', '警察', '犯罪予防', '監視', '犯罪者', '安全', '交通安全', '警備員', '犯罪統計']\n"
   ]
  },
  {
   "cell_type": "code",
   "execution_count": 3,
   "metadata": {},
   "outputs": [],
   "source": [
    "keyword = '治安'"
   ]
  },
  {
   "cell_type": "code",
   "execution_count": 4,
   "metadata": {},
   "outputs": [],
   "source": [
    "def encoded_text(keyword):\n",
    "    encoded = par.quote(keyword)\n",
    "    return encoded"
   ]
  },
  {
   "cell_type": "code",
   "execution_count": 5,
   "metadata": {},
   "outputs": [],
   "source": [
    "import requests\n",
    "from bs4 import BeautifulSoup\n",
    "\n",
    "def get_page_info(keyword):\n",
    "    #* 첫 페이지 요청\n",
    "    encoded_keyword = encoded_text(keyword)\n",
    "    url = f'https://catalog.data.metro.tokyo.lg.jp/dataset?q={encoded_keyword}&sort=score+desc%2C+metadata_modified+desc'\n",
    "    response = requests.get(url)\n",
    "    html = response.text\n",
    "    soup = BeautifulSoup(html, 'html.parser')\n",
    "\n",
    "    #* 해당 키워드 전체 페이지 수\n",
    "    totalPageNum = len(soup.select('ul.pagination > li')) - 1\n",
    "    #print(f\"{keyword}의 전체 페이지 수:\", totalPageNum)\n",
    "    return totalPageNum"
   ]
  },
  {
   "cell_type": "code",
   "execution_count": 6,
   "metadata": {},
   "outputs": [
    {
     "data": {
      "text/plain": [
       "3"
      ]
     },
     "execution_count": 6,
     "metadata": {},
     "output_type": "execute_result"
    }
   ],
   "source": [
    "get_page_info(keyword)"
   ]
  },
  {
   "cell_type": "code",
   "execution_count": 7,
   "metadata": {},
   "outputs": [],
   "source": [
    "def total_connect_url(keyword):\n",
    "    wholeurl = []\n",
    "    for idx in range(1, get_page_info(keyword) + 1):\n",
    "        encoded_keyword = encoded_text(keyword)\n",
    "        url = f'https://catalog.data.metro.tokyo.lg.jp/dataset?q={encoded_keyword}&sort=score+desc%2C+metadata_modified+desc&page={idx}'\n",
    "        wholeurl.append(url)\n",
    "    return wholeurl"
   ]
  },
  {
   "cell_type": "code",
   "execution_count": 8,
   "metadata": {},
   "outputs": [
    {
     "data": {
      "text/plain": [
       "['https://catalog.data.metro.tokyo.lg.jp/dataset?q=%E6%B2%BB%E5%AE%89&sort=score+desc%2C+metadata_modified+desc&page=1',\n",
       " 'https://catalog.data.metro.tokyo.lg.jp/dataset?q=%E6%B2%BB%E5%AE%89&sort=score+desc%2C+metadata_modified+desc&page=2',\n",
       " 'https://catalog.data.metro.tokyo.lg.jp/dataset?q=%E6%B2%BB%E5%AE%89&sort=score+desc%2C+metadata_modified+desc&page=3']"
      ]
     },
     "execution_count": 8,
     "metadata": {},
     "output_type": "execute_result"
    }
   ],
   "source": [
    "total_connect_url(keyword)"
   ]
  },
  {
   "cell_type": "code",
   "execution_count": 9,
   "metadata": {},
   "outputs": [],
   "source": [
    "datanumList = []\n",
    "def get_connect_url(keyword):\n",
    "    for url in total_connect_url(keyword):\n",
    "        code = requests.get(url)\n",
    "        soup = BeautifulSoup(code.text, 'html.parser')\n",
    "        datanum = soup.select('ul.dataset-list.list-unstyled h3.dataset-heading > a')\n",
    "        connectBaseurl = 'https://catalog.data.metro.tokyo.lg.jp'\n",
    "        for idx in range(len(datanum)):\n",
    "            datanumList.append(connectBaseurl + datanum[idx].attrs['href'])\n",
    "    #print(len(datanumList))\n",
    "    return datanumList"
   ]
  },
  {
   "cell_type": "code",
   "execution_count": 10,
   "metadata": {},
   "outputs": [
    {
     "data": {
      "text/plain": [
       "57"
      ]
     },
     "execution_count": 10,
     "metadata": {},
     "output_type": "execute_result"
    }
   ],
   "source": [
    "len(get_connect_url(keyword))"
   ]
  },
  {
   "cell_type": "code",
   "execution_count": 11,
   "metadata": {},
   "outputs": [
    {
     "data": {
      "text/plain": [
       "['https://catalog.data.metro.tokyo.lg.jp/dataset/t132063d0000000011',\n",
       " 'https://catalog.data.metro.tokyo.lg.jp/dataset/t000007d1900000004',\n",
       " 'https://catalog.data.metro.tokyo.lg.jp/dataset/t000002d0000000002',\n",
       " 'https://catalog.data.metro.tokyo.lg.jp/dataset/t000002d1800000005',\n",
       " 'https://catalog.data.metro.tokyo.lg.jp/dataset/t000002d1800000015',\n",
       " 'https://catalog.data.metro.tokyo.lg.jp/dataset/t000002d1700000008',\n",
       " 'https://catalog.data.metro.tokyo.lg.jp/dataset/t000002d1800000018',\n",
       " 'https://catalog.data.metro.tokyo.lg.jp/dataset/t000002d1700000010',\n",
       " 'https://catalog.data.metro.tokyo.lg.jp/dataset/t000002d0000000008',\n",
       " 'https://catalog.data.metro.tokyo.lg.jp/dataset/t000002d1800000004',\n",
       " 'https://catalog.data.metro.tokyo.lg.jp/dataset/t000002d1800000009',\n",
       " 'https://catalog.data.metro.tokyo.lg.jp/dataset/t000002d0000000009',\n",
       " 'https://catalog.data.metro.tokyo.lg.jp/dataset/t000002d0000000015',\n",
       " 'https://catalog.data.metro.tokyo.lg.jp/dataset/t000002d0000000016',\n",
       " 'https://catalog.data.metro.tokyo.lg.jp/dataset/t000002d0000000007',\n",
       " 'https://catalog.data.metro.tokyo.lg.jp/dataset/t000002d1800000010',\n",
       " 'https://catalog.data.metro.tokyo.lg.jp/dataset/t000002d0000000010',\n",
       " 'https://catalog.data.metro.tokyo.lg.jp/dataset/t000002d1800000017',\n",
       " 'https://catalog.data.metro.tokyo.lg.jp/dataset/t000002d1700000009',\n",
       " 'https://catalog.data.metro.tokyo.lg.jp/dataset/t000002d1800000003',\n",
       " 'https://catalog.data.metro.tokyo.lg.jp/dataset/t000002d0000000006',\n",
       " 'https://catalog.data.metro.tokyo.lg.jp/dataset/t000002d0000000012',\n",
       " 'https://catalog.data.metro.tokyo.lg.jp/dataset/t000002d0000000013',\n",
       " 'https://catalog.data.metro.tokyo.lg.jp/dataset/t000002d0000000014',\n",
       " 'https://catalog.data.metro.tokyo.lg.jp/dataset/t000002d0000000001',\n",
       " 'https://catalog.data.metro.tokyo.lg.jp/dataset/t000002d0000000019',\n",
       " 'https://catalog.data.metro.tokyo.lg.jp/dataset/t000002d1700000004',\n",
       " 'https://catalog.data.metro.tokyo.lg.jp/dataset/t000002d0000000031',\n",
       " 'https://catalog.data.metro.tokyo.lg.jp/dataset/t000002d1800000011',\n",
       " 'https://catalog.data.metro.tokyo.lg.jp/dataset/t000002d1800000008',\n",
       " 'https://catalog.data.metro.tokyo.lg.jp/dataset/t000002d1800000002',\n",
       " 'https://catalog.data.metro.tokyo.lg.jp/dataset/t000002d1800000016',\n",
       " 'https://catalog.data.metro.tokyo.lg.jp/dataset/t000002d0000000011',\n",
       " 'https://catalog.data.metro.tokyo.lg.jp/dataset/t000002d0000000017',\n",
       " 'https://catalog.data.metro.tokyo.lg.jp/dataset/t000002d1800000006',\n",
       " 'https://catalog.data.metro.tokyo.lg.jp/dataset/t000007d2000000001',\n",
       " 'https://catalog.data.metro.tokyo.lg.jp/dataset/t000002d0000000003',\n",
       " 'https://catalog.data.metro.tokyo.lg.jp/dataset/t000002d0000000004',\n",
       " 'https://catalog.data.metro.tokyo.lg.jp/dataset/t000002d0000000005',\n",
       " 'https://catalog.data.metro.tokyo.lg.jp/dataset/t000002d1800000007',\n",
       " 'https://catalog.data.metro.tokyo.lg.jp/dataset/t000002d1700000003',\n",
       " 'https://catalog.data.metro.tokyo.lg.jp/dataset/t132012d0000000007',\n",
       " 'https://catalog.data.metro.tokyo.lg.jp/dataset/t132012d0000000006',\n",
       " 'https://catalog.data.metro.tokyo.lg.jp/dataset/t132012d0000000005',\n",
       " 'https://catalog.data.metro.tokyo.lg.jp/dataset/t132012d0000000004',\n",
       " 'https://catalog.data.metro.tokyo.lg.jp/dataset/t132012d0000000003',\n",
       " 'https://catalog.data.metro.tokyo.lg.jp/dataset/t000002d1700000005',\n",
       " 'https://catalog.data.metro.tokyo.lg.jp/dataset/t000002d0000000029',\n",
       " 'https://catalog.data.metro.tokyo.lg.jp/dataset/t000002d1700000006',\n",
       " 'https://catalog.data.metro.tokyo.lg.jp/dataset/t000002d1800000019',\n",
       " 'https://catalog.data.metro.tokyo.lg.jp/dataset/t000002d1800000013',\n",
       " 'https://catalog.data.metro.tokyo.lg.jp/dataset/t000002d1800000012',\n",
       " 'https://catalog.data.metro.tokyo.lg.jp/dataset/t000002d1800000014',\n",
       " 'https://catalog.data.metro.tokyo.lg.jp/dataset/t000002d1800000001',\n",
       " 'https://catalog.data.metro.tokyo.lg.jp/dataset/t000002d1700000001',\n",
       " 'https://catalog.data.metro.tokyo.lg.jp/dataset/t000002d0000000030',\n",
       " 'https://catalog.data.metro.tokyo.lg.jp/dataset/t000002d1700000002',\n",
       " 'https://catalog.data.metro.tokyo.lg.jp/dataset/t132063d0000000011',\n",
       " 'https://catalog.data.metro.tokyo.lg.jp/dataset/t000007d1900000004',\n",
       " 'https://catalog.data.metro.tokyo.lg.jp/dataset/t000002d0000000002',\n",
       " 'https://catalog.data.metro.tokyo.lg.jp/dataset/t000002d1800000005',\n",
       " 'https://catalog.data.metro.tokyo.lg.jp/dataset/t000002d1800000015',\n",
       " 'https://catalog.data.metro.tokyo.lg.jp/dataset/t000002d1700000008',\n",
       " 'https://catalog.data.metro.tokyo.lg.jp/dataset/t000002d1800000018',\n",
       " 'https://catalog.data.metro.tokyo.lg.jp/dataset/t000002d1700000010',\n",
       " 'https://catalog.data.metro.tokyo.lg.jp/dataset/t000002d0000000008',\n",
       " 'https://catalog.data.metro.tokyo.lg.jp/dataset/t000002d1800000004',\n",
       " 'https://catalog.data.metro.tokyo.lg.jp/dataset/t000002d1800000009',\n",
       " 'https://catalog.data.metro.tokyo.lg.jp/dataset/t000002d0000000009',\n",
       " 'https://catalog.data.metro.tokyo.lg.jp/dataset/t000002d0000000015',\n",
       " 'https://catalog.data.metro.tokyo.lg.jp/dataset/t000002d0000000016',\n",
       " 'https://catalog.data.metro.tokyo.lg.jp/dataset/t000002d0000000007',\n",
       " 'https://catalog.data.metro.tokyo.lg.jp/dataset/t000002d1800000010',\n",
       " 'https://catalog.data.metro.tokyo.lg.jp/dataset/t000002d0000000010',\n",
       " 'https://catalog.data.metro.tokyo.lg.jp/dataset/t000002d1800000017',\n",
       " 'https://catalog.data.metro.tokyo.lg.jp/dataset/t000002d1700000009',\n",
       " 'https://catalog.data.metro.tokyo.lg.jp/dataset/t000002d1800000003',\n",
       " 'https://catalog.data.metro.tokyo.lg.jp/dataset/t000002d0000000006',\n",
       " 'https://catalog.data.metro.tokyo.lg.jp/dataset/t000002d0000000012',\n",
       " 'https://catalog.data.metro.tokyo.lg.jp/dataset/t000002d0000000013',\n",
       " 'https://catalog.data.metro.tokyo.lg.jp/dataset/t000002d0000000014',\n",
       " 'https://catalog.data.metro.tokyo.lg.jp/dataset/t000002d0000000001',\n",
       " 'https://catalog.data.metro.tokyo.lg.jp/dataset/t000002d0000000019',\n",
       " 'https://catalog.data.metro.tokyo.lg.jp/dataset/t000002d1700000004',\n",
       " 'https://catalog.data.metro.tokyo.lg.jp/dataset/t000002d0000000031',\n",
       " 'https://catalog.data.metro.tokyo.lg.jp/dataset/t000002d1800000011',\n",
       " 'https://catalog.data.metro.tokyo.lg.jp/dataset/t000002d1800000008',\n",
       " 'https://catalog.data.metro.tokyo.lg.jp/dataset/t000002d1800000002',\n",
       " 'https://catalog.data.metro.tokyo.lg.jp/dataset/t000002d1800000016',\n",
       " 'https://catalog.data.metro.tokyo.lg.jp/dataset/t000002d0000000011',\n",
       " 'https://catalog.data.metro.tokyo.lg.jp/dataset/t000002d0000000017',\n",
       " 'https://catalog.data.metro.tokyo.lg.jp/dataset/t000002d1800000006',\n",
       " 'https://catalog.data.metro.tokyo.lg.jp/dataset/t000007d2000000001',\n",
       " 'https://catalog.data.metro.tokyo.lg.jp/dataset/t000002d0000000003',\n",
       " 'https://catalog.data.metro.tokyo.lg.jp/dataset/t000002d0000000004',\n",
       " 'https://catalog.data.metro.tokyo.lg.jp/dataset/t000002d0000000005',\n",
       " 'https://catalog.data.metro.tokyo.lg.jp/dataset/t000002d1800000007',\n",
       " 'https://catalog.data.metro.tokyo.lg.jp/dataset/t000002d1700000003',\n",
       " 'https://catalog.data.metro.tokyo.lg.jp/dataset/t132012d0000000007',\n",
       " 'https://catalog.data.metro.tokyo.lg.jp/dataset/t132012d0000000006',\n",
       " 'https://catalog.data.metro.tokyo.lg.jp/dataset/t132012d0000000005',\n",
       " 'https://catalog.data.metro.tokyo.lg.jp/dataset/t132012d0000000004',\n",
       " 'https://catalog.data.metro.tokyo.lg.jp/dataset/t132012d0000000003',\n",
       " 'https://catalog.data.metro.tokyo.lg.jp/dataset/t000002d1700000005',\n",
       " 'https://catalog.data.metro.tokyo.lg.jp/dataset/t000002d0000000029',\n",
       " 'https://catalog.data.metro.tokyo.lg.jp/dataset/t000002d1700000006',\n",
       " 'https://catalog.data.metro.tokyo.lg.jp/dataset/t000002d1800000019',\n",
       " 'https://catalog.data.metro.tokyo.lg.jp/dataset/t000002d1800000013',\n",
       " 'https://catalog.data.metro.tokyo.lg.jp/dataset/t000002d1800000012',\n",
       " 'https://catalog.data.metro.tokyo.lg.jp/dataset/t000002d1800000014',\n",
       " 'https://catalog.data.metro.tokyo.lg.jp/dataset/t000002d1800000001',\n",
       " 'https://catalog.data.metro.tokyo.lg.jp/dataset/t000002d1700000001',\n",
       " 'https://catalog.data.metro.tokyo.lg.jp/dataset/t000002d0000000030',\n",
       " 'https://catalog.data.metro.tokyo.lg.jp/dataset/t000002d1700000002']"
      ]
     },
     "execution_count": 11,
     "metadata": {},
     "output_type": "execute_result"
    }
   ],
   "source": [
    "get_connect_url(keyword)"
   ]
  },
  {
   "cell_type": "code",
   "execution_count": 12,
   "metadata": {},
   "outputs": [],
   "source": [
    "import os \n",
    "if not os.path.exists('tokyo/'):\n",
    "    os.makedirs('tokyo/')"
   ]
  },
  {
   "cell_type": "code",
   "execution_count": 13,
   "metadata": {},
   "outputs": [],
   "source": [
    "# import chardet\n",
    "\n",
    "# with open('tokyo/fuc22a12pol01police.csv', 'rb') as rawdata:\n",
    "#     result = chardet.detect(rawdata.read(10000))\n",
    "\n",
    "# # check what the character encoding might be\n",
    "# print(result)"
   ]
  },
  {
   "cell_type": "code",
   "execution_count": 14,
   "metadata": {},
   "outputs": [],
   "source": [
    "def get_csv_download_url(keyword):\n",
    "    for idx in tqdm_notebook(range(len(get_connect_url(keyword)))):\n",
    "        url = get_connect_url(keyword)[idx]\n",
    "        code = requests.get(url, timeout=10)\n",
    "        soup = BeautifulSoup(code.text, 'html.parser')\n",
    "        downloadList = soup.select('ul.resource-list > li.resource-item ul.dropdown-menu li:nth-child(2) > a')\n",
    "        for idx in range(len(downloadList)):\n",
    "            try:\n",
    "                if downloadList[idx].attrs['href'].endswith('.csv'):\n",
    "                    file_name = downloadList[idx].attrs[\"href\"].split(\"/\")[-1]\n",
    "                    pd.read_csv(downloadList[idx].attrs['href'], encoding='SHIFT_JIS').to_csv('tokyo/' + file_name,encoding='SHIFT_JIS')\n",
    "            except:\n",
    "                print('download 불가')\n"
   ]
  }
 ],
 "metadata": {
  "kernelspec": {
   "display_name": "genie",
   "language": "python",
   "name": "python3"
  },
  "language_info": {
   "codemirror_mode": {
    "name": "ipython",
    "version": 3
   },
   "file_extension": ".py",
   "mimetype": "text/x-python",
   "name": "python",
   "nbconvert_exporter": "python",
   "pygments_lexer": "ipython3",
   "version": "3.8.16"
  },
  "orig_nbformat": 4
 },
 "nbformat": 4,
 "nbformat_minor": 2
}
